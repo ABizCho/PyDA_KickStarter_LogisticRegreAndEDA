{
 "cells": [
  {
   "cell_type": "markdown",
   "id": "cf35dad5",
   "metadata": {
    "papermill": {
     "duration": 0.05325,
     "end_time": "2022-04-28T15:20:42.894417",
     "exception": false,
     "start_time": "2022-04-28T15:20:42.841167",
     "status": "completed"
    },
    "tags": []
   },
   "source": [
    "# **Logistic Regression & EDA on Kickstarter Projects**\n",
    "    Dep  : Department of E-Business - Undergraduate, AJOU School of Business, Ajou University\n",
    "    Code : 201823869 \n",
    "    Name : seongwoo Cho\n",
    "\n",
    "<br>\n",
    "\n",
    "#### **INDEX** \n",
    "\n",
    "&nbsp;&nbsp;&nbsp; **2-1. EDA & Pre-processing**<br>\n",
    "&nbsp;&nbsp;&nbsp;&nbsp;&nbsp;&nbsp;&nbsp;&nbsp;&nbsp;&nbsp;&nbsp;&nbsp; - Dealing with missing values <br>\n",
    "&nbsp;&nbsp;&nbsp;&nbsp;&nbsp;&nbsp;&nbsp;&nbsp;&nbsp;&nbsp;&nbsp;&nbsp; - Removing whitespace of col names <br><br>\n",
    "\n",
    "&nbsp;&nbsp;&nbsp; **2-2. Generating dummies** <br>\n",
    "&nbsp;&nbsp;&nbsp;&nbsp;&nbsp;&nbsp;&nbsp;&nbsp;&nbsp;&nbsp;&nbsp;&nbsp; -  Drop all the projects unfinished <br>\n",
    "&nbsp;&nbsp;&nbsp;&nbsp;&nbsp;&nbsp;&nbsp;&nbsp;&nbsp;&nbsp;&nbsp;&nbsp; - Generate dummies <br>\n",
    "&nbsp;&nbsp;&nbsp;&nbsp;&nbsp;&nbsp;&nbsp;&nbsp;&nbsp;&nbsp;&nbsp;&nbsp; - Convert the Dependent variable's values to [0,1] <br>\n",
    "\n",
    "&nbsp;&nbsp;&nbsp; **2-3. Logistic Regression : Model Building** <br>\n",
    "&nbsp;&nbsp;&nbsp;&nbsp;&nbsp;&nbsp;&nbsp;&nbsp;&nbsp;&nbsp;&nbsp;&nbsp; - Splitting into train and test sets <br>\n",
    "&nbsp;&nbsp;&nbsp;&nbsp;&nbsp;&nbsp;&nbsp;&nbsp;&nbsp;&nbsp;&nbsp;&nbsp; - Building Logistic Regression model <br><br>\n",
    "&nbsp;&nbsp;&nbsp; **2-4. Model Evaluation** <br>\n",
    "&nbsp;&nbsp;&nbsp;&nbsp;&nbsp;&nbsp;&nbsp;&nbsp;&nbsp;&nbsp;&nbsp;&nbsp; - Confusion Matrix <br>\n",
    "&nbsp;&nbsp;&nbsp;&nbsp;&nbsp;&nbsp;&nbsp;&nbsp;&nbsp;&nbsp;&nbsp;&nbsp; - accuracy & precision <br><br>\n",
    "&nbsp;&nbsp;&nbsp; **2-5. Suggestions for improving**\n",
    "<br><br><br>\n",
    "\n",
    "---\n",
    "\n",
    "<br><br>"
   ]
  },
  {
   "cell_type": "markdown",
   "id": "782dea8b",
   "metadata": {
    "papermill": {
     "duration": 0.053194,
     "end_time": "2022-04-28T15:20:42.999447",
     "exception": false,
     "start_time": "2022-04-28T15:20:42.946253",
     "status": "completed"
    },
    "tags": []
   },
   "source": [
    "# **Summary**\n",
    "The main purpose of this notebook is building a Logistic regression model for predicting 'DV:state(successful or failed') by using the other variables.<br>\n",
    "It includes EDA, Cleaning, Building Model, Model Evaluation, and Suggestions for improving the model.\n",
    "<br><br>"
   ]
  },
  {
   "cell_type": "markdown",
   "id": "b06ad6d7",
   "metadata": {
    "papermill": {
     "duration": 0.049221,
     "end_time": "2022-04-28T15:20:43.100106",
     "exception": false,
     "start_time": "2022-04-28T15:20:43.050885",
     "status": "completed"
    },
    "tags": []
   },
   "source": [
    "## *Preparing*"
   ]
  },
  {
   "cell_type": "code",
   "execution_count": 1,
   "id": "28ce84c6",
   "metadata": {
    "execution": {
     "iopub.execute_input": "2022-04-28T15:20:43.201729Z",
     "iopub.status.busy": "2022-04-28T15:20:43.201247Z",
     "iopub.status.idle": "2022-04-28T15:20:46.987365Z",
     "shell.execute_reply": "2022-04-28T15:20:46.986488Z"
    },
    "papermill": {
     "duration": 3.841019,
     "end_time": "2022-04-28T15:20:46.990721",
     "exception": false,
     "start_time": "2022-04-28T15:20:43.149702",
     "status": "completed"
    },
    "tags": []
   },
   "outputs": [
    {
     "data": {
      "text/html": [
       "<div>\n",
       "<style scoped>\n",
       "    .dataframe tbody tr th:only-of-type {\n",
       "        vertical-align: middle;\n",
       "    }\n",
       "\n",
       "    .dataframe tbody tr th {\n",
       "        vertical-align: top;\n",
       "    }\n",
       "\n",
       "    .dataframe thead th {\n",
       "        text-align: right;\n",
       "    }\n",
       "</style>\n",
       "<table border=\"1\" class=\"dataframe\">\n",
       "  <thead>\n",
       "    <tr style=\"text-align: right;\">\n",
       "      <th></th>\n",
       "      <th>ID</th>\n",
       "      <th>name</th>\n",
       "      <th>category</th>\n",
       "      <th>main_category</th>\n",
       "      <th>currency</th>\n",
       "      <th>deadline</th>\n",
       "      <th>goal</th>\n",
       "      <th>launched</th>\n",
       "      <th>pledged</th>\n",
       "      <th>state</th>\n",
       "      <th>backers</th>\n",
       "      <th>country</th>\n",
       "      <th>usd pledged</th>\n",
       "      <th>Unnamed: 13</th>\n",
       "      <th>Unnamed: 14</th>\n",
       "      <th>Unnamed: 15</th>\n",
       "      <th>Unnamed: 16</th>\n",
       "    </tr>\n",
       "  </thead>\n",
       "  <tbody>\n",
       "    <tr>\n",
       "      <th>0</th>\n",
       "      <td>1000002330</td>\n",
       "      <td>The Songs of Adelaide &amp; Abullah</td>\n",
       "      <td>Poetry</td>\n",
       "      <td>Publishing</td>\n",
       "      <td>GBP</td>\n",
       "      <td>2015-10-09 11:36:00</td>\n",
       "      <td>1000</td>\n",
       "      <td>2015-08-11 12:12:28</td>\n",
       "      <td>0</td>\n",
       "      <td>failed</td>\n",
       "      <td>0</td>\n",
       "      <td>GB</td>\n",
       "      <td>0</td>\n",
       "      <td>NaN</td>\n",
       "      <td>NaN</td>\n",
       "      <td>NaN</td>\n",
       "      <td>NaN</td>\n",
       "    </tr>\n",
       "    <tr>\n",
       "      <th>1</th>\n",
       "      <td>1000004038</td>\n",
       "      <td>Where is Hank?</td>\n",
       "      <td>Narrative Film</td>\n",
       "      <td>Film &amp; Video</td>\n",
       "      <td>USD</td>\n",
       "      <td>2013-02-26 00:20:50</td>\n",
       "      <td>45000</td>\n",
       "      <td>2013-01-12 00:20:50</td>\n",
       "      <td>220</td>\n",
       "      <td>failed</td>\n",
       "      <td>3</td>\n",
       "      <td>US</td>\n",
       "      <td>220</td>\n",
       "      <td>NaN</td>\n",
       "      <td>NaN</td>\n",
       "      <td>NaN</td>\n",
       "      <td>NaN</td>\n",
       "    </tr>\n",
       "    <tr>\n",
       "      <th>2</th>\n",
       "      <td>1000007540</td>\n",
       "      <td>ToshiCapital Rekordz Needs Help to Complete Album</td>\n",
       "      <td>Music</td>\n",
       "      <td>Music</td>\n",
       "      <td>USD</td>\n",
       "      <td>2012-04-16 04:24:11</td>\n",
       "      <td>5000</td>\n",
       "      <td>2012-03-17 03:24:11</td>\n",
       "      <td>1</td>\n",
       "      <td>failed</td>\n",
       "      <td>1</td>\n",
       "      <td>US</td>\n",
       "      <td>1</td>\n",
       "      <td>NaN</td>\n",
       "      <td>NaN</td>\n",
       "      <td>NaN</td>\n",
       "      <td>NaN</td>\n",
       "    </tr>\n",
       "    <tr>\n",
       "      <th>3</th>\n",
       "      <td>1000011046</td>\n",
       "      <td>Community Film Project: The Art of Neighborhoo...</td>\n",
       "      <td>Film &amp; Video</td>\n",
       "      <td>Film &amp; Video</td>\n",
       "      <td>USD</td>\n",
       "      <td>2015-08-29 01:00:00</td>\n",
       "      <td>19500</td>\n",
       "      <td>2015-07-04 08:35:03</td>\n",
       "      <td>1283</td>\n",
       "      <td>canceled</td>\n",
       "      <td>14</td>\n",
       "      <td>US</td>\n",
       "      <td>1283</td>\n",
       "      <td>NaN</td>\n",
       "      <td>NaN</td>\n",
       "      <td>NaN</td>\n",
       "      <td>NaN</td>\n",
       "    </tr>\n",
       "    <tr>\n",
       "      <th>4</th>\n",
       "      <td>1000014025</td>\n",
       "      <td>Monarch Espresso Bar</td>\n",
       "      <td>Restaurants</td>\n",
       "      <td>Food</td>\n",
       "      <td>USD</td>\n",
       "      <td>2016-04-01 13:38:27</td>\n",
       "      <td>50000</td>\n",
       "      <td>2016-02-26 13:38:27</td>\n",
       "      <td>52375</td>\n",
       "      <td>successful</td>\n",
       "      <td>224</td>\n",
       "      <td>US</td>\n",
       "      <td>52375</td>\n",
       "      <td>NaN</td>\n",
       "      <td>NaN</td>\n",
       "      <td>NaN</td>\n",
       "      <td>NaN</td>\n",
       "    </tr>\n",
       "  </tbody>\n",
       "</table>\n",
       "</div>"
      ],
      "text/plain": [
       "          ID                                               name   \\\n",
       "0  1000002330                    The Songs of Adelaide & Abullah   \n",
       "1  1000004038                                     Where is Hank?   \n",
       "2  1000007540  ToshiCapital Rekordz Needs Help to Complete Album   \n",
       "3  1000011046  Community Film Project: The Art of Neighborhoo...   \n",
       "4  1000014025                               Monarch Espresso Bar   \n",
       "\n",
       "        category  main_category  currency             deadline   goal   \\\n",
       "0          Poetry     Publishing       GBP  2015-10-09 11:36:00   1000   \n",
       "1  Narrative Film   Film & Video       USD  2013-02-26 00:20:50  45000   \n",
       "2           Music          Music       USD  2012-04-16 04:24:11   5000   \n",
       "3    Film & Video   Film & Video       USD  2015-08-29 01:00:00  19500   \n",
       "4     Restaurants           Food       USD  2016-04-01 13:38:27  50000   \n",
       "\n",
       "             launched  pledged       state  backers  country  usd pledged   \\\n",
       "0  2015-08-11 12:12:28        0      failed        0       GB            0   \n",
       "1  2013-01-12 00:20:50      220      failed        3       US          220   \n",
       "2  2012-03-17 03:24:11        1      failed        1       US            1   \n",
       "3  2015-07-04 08:35:03     1283    canceled       14       US         1283   \n",
       "4  2016-02-26 13:38:27    52375  successful      224       US        52375   \n",
       "\n",
       "  Unnamed: 13 Unnamed: 14 Unnamed: 15  Unnamed: 16  \n",
       "0         NaN         NaN         NaN          NaN  \n",
       "1         NaN         NaN         NaN          NaN  \n",
       "2         NaN         NaN         NaN          NaN  \n",
       "3         NaN         NaN         NaN          NaN  \n",
       "4         NaN         NaN         NaN          NaN  "
      ]
     },
     "execution_count": 1,
     "metadata": {},
     "output_type": "execute_result"
    }
   ],
   "source": [
    "import pandas as pd\n",
    "import numpy as np\n",
    "import matplotlib.pyplot as plt\n",
    "import seaborn as sns\n",
    "\n",
    "\n",
    "df_ks = pd.read_csv('../input/kickstarter-projects/ks-projects-201612.csv',encoding='latin_1',low_memory=False)\n",
    "df_ks.head()"
   ]
  },
  {
   "cell_type": "markdown",
   "id": "b7040a97",
   "metadata": {
    "papermill": {
     "duration": 0.051595,
     "end_time": "2022-04-28T15:20:47.093765",
     "exception": false,
     "start_time": "2022-04-28T15:20:47.042170",
     "status": "completed"
    },
    "tags": []
   },
   "source": [
    "<br>"
   ]
  },
  {
   "cell_type": "markdown",
   "id": "6a2cfd31",
   "metadata": {
    "papermill": {
     "duration": 0.051927,
     "end_time": "2022-04-28T15:20:47.195959",
     "exception": false,
     "start_time": "2022-04-28T15:20:47.144032",
     "status": "completed"
    },
    "tags": []
   },
   "source": [
    "# **2-1. EDA & Pre-processing**\n",
    "\n",
    "**Data** : ks-projects-201612 is the data representing '2016 kickstarter Projects'. <br>\n",
    "It has columns including Id, name, category, main category ...state."
   ]
  },
  {
   "cell_type": "markdown",
   "id": "01634261",
   "metadata": {
    "papermill": {
     "duration": 0.050555,
     "end_time": "2022-04-28T15:20:47.301200",
     "exception": false,
     "start_time": "2022-04-28T15:20:47.250645",
     "status": "completed"
    },
    "tags": []
   },
   "source": [
    "<br>"
   ]
  },
  {
   "cell_type": "markdown",
   "id": "4307f035",
   "metadata": {
    "papermill": {
     "duration": 0.050278,
     "end_time": "2022-04-28T15:20:47.402479",
     "exception": false,
     "start_time": "2022-04-28T15:20:47.352201",
     "status": "completed"
    },
    "tags": []
   },
   "source": [
    "## *(1) Head observations*"
   ]
  },
  {
   "cell_type": "code",
   "execution_count": 2,
   "id": "2252c70d",
   "metadata": {
    "execution": {
     "iopub.execute_input": "2022-04-28T15:20:47.525270Z",
     "iopub.status.busy": "2022-04-28T15:20:47.524911Z",
     "iopub.status.idle": "2022-04-28T15:20:47.550879Z",
     "shell.execute_reply": "2022-04-28T15:20:47.549627Z"
    },
    "papermill": {
     "duration": 0.094676,
     "end_time": "2022-04-28T15:20:47.553625",
     "exception": false,
     "start_time": "2022-04-28T15:20:47.458949",
     "status": "completed"
    },
    "tags": []
   },
   "outputs": [
    {
     "data": {
      "text/html": [
       "<div>\n",
       "<style scoped>\n",
       "    .dataframe tbody tr th:only-of-type {\n",
       "        vertical-align: middle;\n",
       "    }\n",
       "\n",
       "    .dataframe tbody tr th {\n",
       "        vertical-align: top;\n",
       "    }\n",
       "\n",
       "    .dataframe thead th {\n",
       "        text-align: right;\n",
       "    }\n",
       "</style>\n",
       "<table border=\"1\" class=\"dataframe\">\n",
       "  <thead>\n",
       "    <tr style=\"text-align: right;\">\n",
       "      <th></th>\n",
       "      <th>ID</th>\n",
       "      <th>name</th>\n",
       "      <th>category</th>\n",
       "      <th>main_category</th>\n",
       "      <th>currency</th>\n",
       "      <th>deadline</th>\n",
       "      <th>goal</th>\n",
       "      <th>launched</th>\n",
       "      <th>pledged</th>\n",
       "      <th>state</th>\n",
       "      <th>backers</th>\n",
       "      <th>country</th>\n",
       "      <th>usd pledged</th>\n",
       "      <th>Unnamed: 13</th>\n",
       "      <th>Unnamed: 14</th>\n",
       "      <th>Unnamed: 15</th>\n",
       "      <th>Unnamed: 16</th>\n",
       "    </tr>\n",
       "  </thead>\n",
       "  <tbody>\n",
       "    <tr>\n",
       "      <th>0</th>\n",
       "      <td>1000002330</td>\n",
       "      <td>The Songs of Adelaide &amp; Abullah</td>\n",
       "      <td>Poetry</td>\n",
       "      <td>Publishing</td>\n",
       "      <td>GBP</td>\n",
       "      <td>2015-10-09 11:36:00</td>\n",
       "      <td>1000</td>\n",
       "      <td>2015-08-11 12:12:28</td>\n",
       "      <td>0</td>\n",
       "      <td>failed</td>\n",
       "      <td>0</td>\n",
       "      <td>GB</td>\n",
       "      <td>0</td>\n",
       "      <td>NaN</td>\n",
       "      <td>NaN</td>\n",
       "      <td>NaN</td>\n",
       "      <td>NaN</td>\n",
       "    </tr>\n",
       "    <tr>\n",
       "      <th>1</th>\n",
       "      <td>1000004038</td>\n",
       "      <td>Where is Hank?</td>\n",
       "      <td>Narrative Film</td>\n",
       "      <td>Film &amp; Video</td>\n",
       "      <td>USD</td>\n",
       "      <td>2013-02-26 00:20:50</td>\n",
       "      <td>45000</td>\n",
       "      <td>2013-01-12 00:20:50</td>\n",
       "      <td>220</td>\n",
       "      <td>failed</td>\n",
       "      <td>3</td>\n",
       "      <td>US</td>\n",
       "      <td>220</td>\n",
       "      <td>NaN</td>\n",
       "      <td>NaN</td>\n",
       "      <td>NaN</td>\n",
       "      <td>NaN</td>\n",
       "    </tr>\n",
       "    <tr>\n",
       "      <th>2</th>\n",
       "      <td>1000007540</td>\n",
       "      <td>ToshiCapital Rekordz Needs Help to Complete Album</td>\n",
       "      <td>Music</td>\n",
       "      <td>Music</td>\n",
       "      <td>USD</td>\n",
       "      <td>2012-04-16 04:24:11</td>\n",
       "      <td>5000</td>\n",
       "      <td>2012-03-17 03:24:11</td>\n",
       "      <td>1</td>\n",
       "      <td>failed</td>\n",
       "      <td>1</td>\n",
       "      <td>US</td>\n",
       "      <td>1</td>\n",
       "      <td>NaN</td>\n",
       "      <td>NaN</td>\n",
       "      <td>NaN</td>\n",
       "      <td>NaN</td>\n",
       "    </tr>\n",
       "    <tr>\n",
       "      <th>3</th>\n",
       "      <td>1000011046</td>\n",
       "      <td>Community Film Project: The Art of Neighborhoo...</td>\n",
       "      <td>Film &amp; Video</td>\n",
       "      <td>Film &amp; Video</td>\n",
       "      <td>USD</td>\n",
       "      <td>2015-08-29 01:00:00</td>\n",
       "      <td>19500</td>\n",
       "      <td>2015-07-04 08:35:03</td>\n",
       "      <td>1283</td>\n",
       "      <td>canceled</td>\n",
       "      <td>14</td>\n",
       "      <td>US</td>\n",
       "      <td>1283</td>\n",
       "      <td>NaN</td>\n",
       "      <td>NaN</td>\n",
       "      <td>NaN</td>\n",
       "      <td>NaN</td>\n",
       "    </tr>\n",
       "    <tr>\n",
       "      <th>4</th>\n",
       "      <td>1000014025</td>\n",
       "      <td>Monarch Espresso Bar</td>\n",
       "      <td>Restaurants</td>\n",
       "      <td>Food</td>\n",
       "      <td>USD</td>\n",
       "      <td>2016-04-01 13:38:27</td>\n",
       "      <td>50000</td>\n",
       "      <td>2016-02-26 13:38:27</td>\n",
       "      <td>52375</td>\n",
       "      <td>successful</td>\n",
       "      <td>224</td>\n",
       "      <td>US</td>\n",
       "      <td>52375</td>\n",
       "      <td>NaN</td>\n",
       "      <td>NaN</td>\n",
       "      <td>NaN</td>\n",
       "      <td>NaN</td>\n",
       "    </tr>\n",
       "  </tbody>\n",
       "</table>\n",
       "</div>"
      ],
      "text/plain": [
       "          ID                                               name   \\\n",
       "0  1000002330                    The Songs of Adelaide & Abullah   \n",
       "1  1000004038                                     Where is Hank?   \n",
       "2  1000007540  ToshiCapital Rekordz Needs Help to Complete Album   \n",
       "3  1000011046  Community Film Project: The Art of Neighborhoo...   \n",
       "4  1000014025                               Monarch Espresso Bar   \n",
       "\n",
       "        category  main_category  currency             deadline   goal   \\\n",
       "0          Poetry     Publishing       GBP  2015-10-09 11:36:00   1000   \n",
       "1  Narrative Film   Film & Video       USD  2013-02-26 00:20:50  45000   \n",
       "2           Music          Music       USD  2012-04-16 04:24:11   5000   \n",
       "3    Film & Video   Film & Video       USD  2015-08-29 01:00:00  19500   \n",
       "4     Restaurants           Food       USD  2016-04-01 13:38:27  50000   \n",
       "\n",
       "             launched  pledged       state  backers  country  usd pledged   \\\n",
       "0  2015-08-11 12:12:28        0      failed        0       GB            0   \n",
       "1  2013-01-12 00:20:50      220      failed        3       US          220   \n",
       "2  2012-03-17 03:24:11        1      failed        1       US            1   \n",
       "3  2015-07-04 08:35:03     1283    canceled       14       US         1283   \n",
       "4  2016-02-26 13:38:27    52375  successful      224       US        52375   \n",
       "\n",
       "  Unnamed: 13 Unnamed: 14 Unnamed: 15  Unnamed: 16  \n",
       "0         NaN         NaN         NaN          NaN  \n",
       "1         NaN         NaN         NaN          NaN  \n",
       "2         NaN         NaN         NaN          NaN  \n",
       "3         NaN         NaN         NaN          NaN  \n",
       "4         NaN         NaN         NaN          NaN  "
      ]
     },
     "execution_count": 2,
     "metadata": {},
     "output_type": "execute_result"
    }
   ],
   "source": [
    "df_ks.head()"
   ]
  },
  {
   "cell_type": "markdown",
   "id": "b086c601",
   "metadata": {
    "papermill": {
     "duration": 0.053742,
     "end_time": "2022-04-28T15:20:47.662750",
     "exception": false,
     "start_time": "2022-04-28T15:20:47.609008",
     "status": "completed"
    },
    "tags": []
   },
   "source": [
    "<br>"
   ]
  },
  {
   "cell_type": "markdown",
   "id": "2202b597",
   "metadata": {
    "papermill": {
     "duration": 0.053639,
     "end_time": "2022-04-28T15:20:47.771784",
     "exception": false,
     "start_time": "2022-04-28T15:20:47.718145",
     "status": "completed"
    },
    "tags": []
   },
   "source": [
    "## *(2) Information*\n",
    "Unnamed: 13, Unnamed: 14, Unnamed: 15, Unnamed: 16 are useless and need to be removed. <br>\n",
    "Also, most of variables represented in object type should be converted to proper data types like numeric or categorical."
   ]
  },
  {
   "cell_type": "code",
   "execution_count": 3,
   "id": "a4d14e71",
   "metadata": {
    "execution": {
     "iopub.execute_input": "2022-04-28T15:20:47.876589Z",
     "iopub.status.busy": "2022-04-28T15:20:47.876249Z",
     "iopub.status.idle": "2022-04-28T15:20:48.378080Z",
     "shell.execute_reply": "2022-04-28T15:20:48.377160Z"
    },
    "papermill": {
     "duration": 0.558337,
     "end_time": "2022-04-28T15:20:48.381432",
     "exception": false,
     "start_time": "2022-04-28T15:20:47.823095",
     "status": "completed"
    },
    "tags": []
   },
   "outputs": [
    {
     "name": "stdout",
     "output_type": "stream",
     "text": [
      "<class 'pandas.core.frame.DataFrame'>\n",
      "RangeIndex: 323750 entries, 0 to 323749\n",
      "Data columns (total 17 columns):\n",
      " #   Column          Non-Null Count   Dtype  \n",
      "---  ------          --------------   -----  \n",
      " 0   ID              323750 non-null  int64  \n",
      " 1   name            323746 non-null  object \n",
      " 2   category        323745 non-null  object \n",
      " 3   main_category   323750 non-null  object \n",
      " 4   currency        323750 non-null  object \n",
      " 5   deadline        323750 non-null  object \n",
      " 6   goal            323750 non-null  object \n",
      " 7   launched        323750 non-null  object \n",
      " 8   pledged         323750 non-null  object \n",
      " 9   state           323750 non-null  object \n",
      " 10  backers         323750 non-null  object \n",
      " 11  country         323750 non-null  object \n",
      " 12  usd pledged     319960 non-null  object \n",
      " 13  Unnamed: 13     625 non-null     object \n",
      " 14  Unnamed: 14     12 non-null      object \n",
      " 15  Unnamed: 15     4 non-null       object \n",
      " 16  Unnamed: 16     1 non-null       float64\n",
      "dtypes: float64(1), int64(1), object(15)\n",
      "memory usage: 42.0+ MB\n"
     ]
    }
   ],
   "source": [
    "df_ks.info()"
   ]
  },
  {
   "cell_type": "markdown",
   "id": "e71865d0",
   "metadata": {
    "papermill": {
     "duration": 0.052765,
     "end_time": "2022-04-28T15:20:48.488509",
     "exception": false,
     "start_time": "2022-04-28T15:20:48.435744",
     "status": "completed"
    },
    "tags": []
   },
   "source": [
    "### *(2+) Processing : Drop useless columns*"
   ]
  },
  {
   "cell_type": "code",
   "execution_count": 4,
   "id": "7f5e5ed8",
   "metadata": {
    "execution": {
     "iopub.execute_input": "2022-04-28T15:20:48.599532Z",
     "iopub.status.busy": "2022-04-28T15:20:48.598337Z",
     "iopub.status.idle": "2022-04-28T15:20:49.072105Z",
     "shell.execute_reply": "2022-04-28T15:20:49.070222Z"
    },
    "papermill": {
     "duration": 0.533137,
     "end_time": "2022-04-28T15:20:49.075379",
     "exception": false,
     "start_time": "2022-04-28T15:20:48.542242",
     "status": "completed"
    },
    "tags": []
   },
   "outputs": [
    {
     "name": "stdout",
     "output_type": "stream",
     "text": [
      "<class 'pandas.core.frame.DataFrame'>\n",
      "RangeIndex: 323750 entries, 0 to 323749\n",
      "Data columns (total 13 columns):\n",
      " #   Column          Non-Null Count   Dtype \n",
      "---  ------          --------------   ----- \n",
      " 0   ID              323750 non-null  int64 \n",
      " 1   name            323746 non-null  object\n",
      " 2   category        323745 non-null  object\n",
      " 3   main_category   323750 non-null  object\n",
      " 4   currency        323750 non-null  object\n",
      " 5   deadline        323750 non-null  object\n",
      " 6   goal            323750 non-null  object\n",
      " 7   launched        323750 non-null  object\n",
      " 8   pledged         323750 non-null  object\n",
      " 9   state           323750 non-null  object\n",
      " 10  backers         323750 non-null  object\n",
      " 11  country         323750 non-null  object\n",
      " 12  usd pledged     319960 non-null  object\n",
      "dtypes: int64(1), object(12)\n",
      "memory usage: 32.1+ MB\n"
     ]
    }
   ],
   "source": [
    "df_ks.drop(['Unnamed: 13','Unnamed: 14','Unnamed: 15','Unnamed: 16'], axis=1, inplace=True)\n",
    "df_ks.info()\n"
   ]
  },
  {
   "cell_type": "markdown",
   "id": "1acc89e9",
   "metadata": {
    "papermill": {
     "duration": 0.052492,
     "end_time": "2022-04-28T15:20:49.180817",
     "exception": false,
     "start_time": "2022-04-28T15:20:49.128325",
     "status": "completed"
    },
    "tags": []
   },
   "source": [
    "### *(2++) Processing : Convert data types*"
   ]
  },
  {
   "cell_type": "code",
   "execution_count": 5,
   "id": "cfc9b975",
   "metadata": {
    "execution": {
     "iopub.execute_input": "2022-04-28T15:20:49.294121Z",
     "iopub.status.busy": "2022-04-28T15:20:49.293752Z",
     "iopub.status.idle": "2022-04-28T15:20:50.761734Z",
     "shell.execute_reply": "2022-04-28T15:20:50.760633Z"
    },
    "papermill": {
     "duration": 1.526705,
     "end_time": "2022-04-28T15:20:50.764563",
     "exception": false,
     "start_time": "2022-04-28T15:20:49.237858",
     "status": "completed"
    },
    "tags": []
   },
   "outputs": [
    {
     "data": {
      "text/html": [
       "<div>\n",
       "<style scoped>\n",
       "    .dataframe tbody tr th:only-of-type {\n",
       "        vertical-align: middle;\n",
       "    }\n",
       "\n",
       "    .dataframe tbody tr th {\n",
       "        vertical-align: top;\n",
       "    }\n",
       "\n",
       "    .dataframe thead th {\n",
       "        text-align: right;\n",
       "    }\n",
       "</style>\n",
       "<table border=\"1\" class=\"dataframe\">\n",
       "  <thead>\n",
       "    <tr style=\"text-align: right;\">\n",
       "      <th></th>\n",
       "      <th>goal</th>\n",
       "      <th>pledged</th>\n",
       "      <th>backers</th>\n",
       "      <th>usd pledged</th>\n",
       "    </tr>\n",
       "  </thead>\n",
       "  <tbody>\n",
       "    <tr>\n",
       "      <th>0</th>\n",
       "      <td>1000.0</td>\n",
       "      <td>0.0</td>\n",
       "      <td>0.0</td>\n",
       "      <td>0.0</td>\n",
       "    </tr>\n",
       "    <tr>\n",
       "      <th>1</th>\n",
       "      <td>45000.0</td>\n",
       "      <td>220.0</td>\n",
       "      <td>3.0</td>\n",
       "      <td>220.0</td>\n",
       "    </tr>\n",
       "    <tr>\n",
       "      <th>2</th>\n",
       "      <td>5000.0</td>\n",
       "      <td>1.0</td>\n",
       "      <td>1.0</td>\n",
       "      <td>1.0</td>\n",
       "    </tr>\n",
       "    <tr>\n",
       "      <th>3</th>\n",
       "      <td>19500.0</td>\n",
       "      <td>1283.0</td>\n",
       "      <td>14.0</td>\n",
       "      <td>1283.0</td>\n",
       "    </tr>\n",
       "    <tr>\n",
       "      <th>4</th>\n",
       "      <td>50000.0</td>\n",
       "      <td>52375.0</td>\n",
       "      <td>224.0</td>\n",
       "      <td>52375.0</td>\n",
       "    </tr>\n",
       "    <tr>\n",
       "      <th>...</th>\n",
       "      <td>...</td>\n",
       "      <td>...</td>\n",
       "      <td>...</td>\n",
       "      <td>...</td>\n",
       "    </tr>\n",
       "    <tr>\n",
       "      <th>323745</th>\n",
       "      <td>50000.0</td>\n",
       "      <td>25.0</td>\n",
       "      <td>1.0</td>\n",
       "      <td>25.0</td>\n",
       "    </tr>\n",
       "    <tr>\n",
       "      <th>323746</th>\n",
       "      <td>1500.0</td>\n",
       "      <td>155.0</td>\n",
       "      <td>5.0</td>\n",
       "      <td>155.0</td>\n",
       "    </tr>\n",
       "    <tr>\n",
       "      <th>323747</th>\n",
       "      <td>15000.0</td>\n",
       "      <td>20.0</td>\n",
       "      <td>1.0</td>\n",
       "      <td>20.0</td>\n",
       "    </tr>\n",
       "    <tr>\n",
       "      <th>323748</th>\n",
       "      <td>15000.0</td>\n",
       "      <td>200.0</td>\n",
       "      <td>6.0</td>\n",
       "      <td>200.0</td>\n",
       "    </tr>\n",
       "    <tr>\n",
       "      <th>323749</th>\n",
       "      <td>2000.0</td>\n",
       "      <td>524.0</td>\n",
       "      <td>17.0</td>\n",
       "      <td>524.0</td>\n",
       "    </tr>\n",
       "  </tbody>\n",
       "</table>\n",
       "<p>323750 rows × 4 columns</p>\n",
       "</div>"
      ],
      "text/plain": [
       "          goal   pledged   backers   usd pledged \n",
       "0        1000.0       0.0       0.0           0.0\n",
       "1       45000.0     220.0       3.0         220.0\n",
       "2        5000.0       1.0       1.0           1.0\n",
       "3       19500.0    1283.0      14.0        1283.0\n",
       "4       50000.0   52375.0     224.0       52375.0\n",
       "...         ...       ...       ...           ...\n",
       "323745  50000.0      25.0       1.0          25.0\n",
       "323746   1500.0     155.0       5.0         155.0\n",
       "323747  15000.0      20.0       1.0          20.0\n",
       "323748  15000.0     200.0       6.0         200.0\n",
       "323749   2000.0     524.0      17.0         524.0\n",
       "\n",
       "[323750 rows x 4 columns]"
      ]
     },
     "execution_count": 5,
     "metadata": {},
     "output_type": "execute_result"
    }
   ],
   "source": [
    "df_ks[['goal ','pledged ','backers ','usd pledged ']] = df_ks[['goal ','pledged ','backers ','usd pledged ']].apply(pd.to_numeric,errors='coerce')\n",
    "\n",
    "df_ks[['goal ','pledged ','backers ','usd pledged ']]"
   ]
  },
  {
   "cell_type": "markdown",
   "id": "66ed4517",
   "metadata": {
    "papermill": {
     "duration": 0.053879,
     "end_time": "2022-04-28T15:20:50.873621",
     "exception": false,
     "start_time": "2022-04-28T15:20:50.819742",
     "status": "completed"
    },
    "tags": []
   },
   "source": [
    "<br>"
   ]
  },
  {
   "cell_type": "markdown",
   "id": "d32c671c",
   "metadata": {
    "papermill": {
     "duration": 0.054464,
     "end_time": "2022-04-28T15:20:50.982421",
     "exception": false,
     "start_time": "2022-04-28T15:20:50.927957",
     "status": "completed"
    },
    "tags": []
   },
   "source": [
    "## *(3) Checking missing values*"
   ]
  },
  {
   "cell_type": "code",
   "execution_count": 6,
   "id": "21d031e1",
   "metadata": {
    "execution": {
     "iopub.execute_input": "2022-04-28T15:20:51.091695Z",
     "iopub.status.busy": "2022-04-28T15:20:51.091377Z",
     "iopub.status.idle": "2022-04-28T15:20:51.382441Z",
     "shell.execute_reply": "2022-04-28T15:20:51.381619Z"
    },
    "papermill": {
     "duration": 0.349655,
     "end_time": "2022-04-28T15:20:51.384891",
     "exception": false,
     "start_time": "2022-04-28T15:20:51.035236",
     "status": "completed"
    },
    "tags": []
   },
   "outputs": [
    {
     "data": {
      "text/plain": [
       "ID                   0\n",
       "name                 4\n",
       "category             5\n",
       "main_category        0\n",
       "currency             0\n",
       "deadline             0\n",
       "goal               632\n",
       "launched             0\n",
       "pledged            624\n",
       "state                0\n",
       "backers            623\n",
       "country              0\n",
       "usd pledged       4413\n",
       "dtype: int64"
      ]
     },
     "execution_count": 6,
     "metadata": {},
     "output_type": "execute_result"
    }
   ],
   "source": [
    "df_ks.isnull().sum()"
   ]
  },
  {
   "cell_type": "markdown",
   "id": "d4cb195c",
   "metadata": {
    "papermill": {
     "duration": 0.054624,
     "end_time": "2022-04-28T15:20:51.493713",
     "exception": false,
     "start_time": "2022-04-28T15:20:51.439089",
     "status": "completed"
    },
    "tags": []
   },
   "source": [
    "### *(3+) Processing : Drop missing values*"
   ]
  },
  {
   "cell_type": "code",
   "execution_count": 7,
   "id": "1156b950",
   "metadata": {
    "execution": {
     "iopub.execute_input": "2022-04-28T15:20:51.602956Z",
     "iopub.status.busy": "2022-04-28T15:20:51.602667Z",
     "iopub.status.idle": "2022-04-28T15:20:52.227849Z",
     "shell.execute_reply": "2022-04-28T15:20:52.226769Z"
    },
    "papermill": {
     "duration": 0.682828,
     "end_time": "2022-04-28T15:20:52.230240",
     "exception": false,
     "start_time": "2022-04-28T15:20:51.547412",
     "status": "completed"
    },
    "tags": []
   },
   "outputs": [
    {
     "data": {
      "text/plain": [
       "ID                0\n",
       "name              0\n",
       "category          0\n",
       "main_category     0\n",
       "currency          0\n",
       "deadline          0\n",
       "goal              0\n",
       "launched          0\n",
       "pledged           0\n",
       "state             0\n",
       "backers           0\n",
       "country           0\n",
       "usd pledged       0\n",
       "dtype: int64"
      ]
     },
     "execution_count": 7,
     "metadata": {},
     "output_type": "execute_result"
    }
   ],
   "source": [
    "df_ks = df_ks.dropna()\n",
    "df_ks.isnull().sum()"
   ]
  },
  {
   "cell_type": "markdown",
   "id": "2ce771a8",
   "metadata": {
    "papermill": {
     "duration": 0.054325,
     "end_time": "2022-04-28T15:20:52.339251",
     "exception": false,
     "start_time": "2022-04-28T15:20:52.284926",
     "status": "completed"
    },
    "tags": []
   },
   "source": [
    "<br>"
   ]
  },
  {
   "cell_type": "markdown",
   "id": "363b89b2",
   "metadata": {
    "papermill": {
     "duration": 0.055713,
     "end_time": "2022-04-28T15:20:52.450206",
     "exception": false,
     "start_time": "2022-04-28T15:20:52.394493",
     "status": "completed"
    },
    "tags": []
   },
   "source": [
    "## *(4) Checking column names*\n",
    "Id, name, .., usd pledged, all columns have a whitespace, which might bring about some errors."
   ]
  },
  {
   "cell_type": "code",
   "execution_count": 8,
   "id": "b226e361",
   "metadata": {
    "execution": {
     "iopub.execute_input": "2022-04-28T15:20:52.563469Z",
     "iopub.status.busy": "2022-04-28T15:20:52.562954Z",
     "iopub.status.idle": "2022-04-28T15:20:52.568333Z",
     "shell.execute_reply": "2022-04-28T15:20:52.567470Z"
    },
    "papermill": {
     "duration": 0.067069,
     "end_time": "2022-04-28T15:20:52.571262",
     "exception": false,
     "start_time": "2022-04-28T15:20:52.504193",
     "status": "completed"
    },
    "tags": []
   },
   "outputs": [
    {
     "name": "stdout",
     "output_type": "stream",
     "text": [
      "['ID ' 'name ' 'category ' 'main_category ' 'currency ' 'deadline '\n",
      " 'goal ' 'launched ' 'pledged ' 'state ' 'backers ' 'country '\n",
      " 'usd pledged ']\n"
     ]
    }
   ],
   "source": [
    "print(df_ks.columns.values)"
   ]
  },
  {
   "cell_type": "markdown",
   "id": "67ee26b1",
   "metadata": {
    "papermill": {
     "duration": 0.054384,
     "end_time": "2022-04-28T15:20:52.680395",
     "exception": false,
     "start_time": "2022-04-28T15:20:52.626011",
     "status": "completed"
    },
    "tags": []
   },
   "source": [
    "### *(4+) Processing : Remove whiteSpaces in colnames*"
   ]
  },
  {
   "cell_type": "code",
   "execution_count": 9,
   "id": "7a3076dc",
   "metadata": {
    "execution": {
     "iopub.execute_input": "2022-04-28T15:20:52.791380Z",
     "iopub.status.busy": "2022-04-28T15:20:52.790854Z",
     "iopub.status.idle": "2022-04-28T15:20:52.798209Z",
     "shell.execute_reply": "2022-04-28T15:20:52.796879Z"
    },
    "papermill": {
     "duration": 0.065709,
     "end_time": "2022-04-28T15:20:52.800666",
     "exception": false,
     "start_time": "2022-04-28T15:20:52.734957",
     "status": "completed"
    },
    "tags": []
   },
   "outputs": [
    {
     "name": "stdout",
     "output_type": "stream",
     "text": [
      "Index(['ID', 'name', 'category', 'main_category', 'currency', 'deadline',\n",
      "       'goal', 'launched', 'pledged', 'state', 'backers', 'country',\n",
      "       'usd pledged'],\n",
      "      dtype='object')\n"
     ]
    }
   ],
   "source": [
    "newColnames = []\n",
    "for i in range(len(df_ks.columns.values)) :\n",
    "    newColnames.append(df_ks.columns.values[i][:len(df_ks.columns.values[i])-1])\n",
    "\n",
    "df_ks.columns = newColnames\n",
    "df_ks.head()\n",
    "print(df_ks.columns)"
   ]
  },
  {
   "cell_type": "markdown",
   "id": "965f4d5d",
   "metadata": {
    "papermill": {
     "duration": 0.054476,
     "end_time": "2022-04-28T15:20:52.912582",
     "exception": false,
     "start_time": "2022-04-28T15:20:52.858106",
     "status": "completed"
    },
    "tags": []
   },
   "source": [
    "<br>"
   ]
  },
  {
   "cell_type": "markdown",
   "id": "7509cac9",
   "metadata": {
    "papermill": {
     "duration": 0.055424,
     "end_time": "2022-04-28T15:20:53.023472",
     "exception": false,
     "start_time": "2022-04-28T15:20:52.968048",
     "status": "completed"
    },
    "tags": []
   },
   "source": [
    "## *(5) Bar chart : Currecy counts*\n",
    "USD is a major currency in the kickstarter projects."
   ]
  },
  {
   "cell_type": "code",
   "execution_count": 10,
   "id": "dea11c3d",
   "metadata": {
    "execution": {
     "iopub.execute_input": "2022-04-28T15:20:53.137632Z",
     "iopub.status.busy": "2022-04-28T15:20:53.136569Z",
     "iopub.status.idle": "2022-04-28T15:20:53.476141Z",
     "shell.execute_reply": "2022-04-28T15:20:53.475211Z"
    },
    "papermill": {
     "duration": 0.399402,
     "end_time": "2022-04-28T15:20:53.478540",
     "exception": false,
     "start_time": "2022-04-28T15:20:53.079138",
     "status": "completed"
    },
    "tags": []
   },
   "outputs": [
    {
     "data": {
      "image/png": "[encoded data removed]",
      "text/plain": [
       "<Figure size 864x288 with 1 Axes>"
      ]
     },
     "metadata": {},
     "output_type": "display_data"
    }
   ],
   "source": [
    "ks_cnt_cur= df_ks.groupby('currency')['currency'].count()\n",
    "\n",
    "plt.style.use('seaborn-whitegrid')\n",
    "plt.figure(figsize=(12,4))\n",
    "\n",
    "plt.bar(ks_cnt_cur.index.values,ks_cnt_cur.values,color='purple')\n",
    "\n",
    "plt.xticks(fontsize=15)\n",
    "plt.yticks(fontsize=15)\n",
    "plt.title('Currency Counts',fontsize=20,fontweight='bold')\n",
    "plt.xlabel('Currency',fontsize=15)\n",
    "plt.ylabel('Counts',fontsize=15)\n",
    "\n",
    "plt.show()"
   ]
  },
  {
   "cell_type": "markdown",
   "id": "1b72ea1d",
   "metadata": {
    "papermill": {
     "duration": 0.056674,
     "end_time": "2022-04-28T15:20:53.591078",
     "exception": false,
     "start_time": "2022-04-28T15:20:53.534404",
     "status": "completed"
    },
    "tags": []
   },
   "source": [
    "<br>"
   ]
  },
  {
   "cell_type": "markdown",
   "id": "352415bb",
   "metadata": {
    "papermill": {
     "duration": 0.055677,
     "end_time": "2022-04-28T15:20:53.702931",
     "exception": false,
     "start_time": "2022-04-28T15:20:53.647254",
     "status": "completed"
    },
    "tags": []
   },
   "source": [
    "## *(6) Bar chart : Country counts*\n",
    "US is the major country in the kickstarter projects."
   ]
  },
  {
   "cell_type": "code",
   "execution_count": 11,
   "id": "a717bfc7",
   "metadata": {
    "execution": {
     "iopub.execute_input": "2022-04-28T15:20:53.818033Z",
     "iopub.status.busy": "2022-04-28T15:20:53.817387Z",
     "iopub.status.idle": "2022-04-28T15:20:54.151270Z",
     "shell.execute_reply": "2022-04-28T15:20:54.150322Z"
    },
    "papermill": {
     "duration": 0.39408,
     "end_time": "2022-04-28T15:20:54.153735",
     "exception": false,
     "start_time": "2022-04-28T15:20:53.759655",
     "status": "completed"
    },
    "tags": []
   },
   "outputs": [
    {
     "data": {
      "image/png": "[encoded data removed]",
      "text/plain": [
       "<Figure size 864x288 with 1 Axes>"
      ]
     },
     "metadata": {},
     "output_type": "display_data"
    }
   ],
   "source": [
    "ks_cnt_country= df_ks.groupby('country')['country'].count()\n",
    "\n",
    "plt.style.use('seaborn-whitegrid')\n",
    "plt.figure(figsize=(12,4))\n",
    "\n",
    "plt.bar(ks_cnt_country.index.values,ks_cnt_country.values,color='darkviolet')\n",
    "\n",
    "plt.xticks(fontsize=15)\n",
    "plt.yticks(fontsize=15)\n",
    "plt.title('Country Counts',fontsize=20,fontweight='bold')\n",
    "plt.xlabel('Country',fontsize=15)\n",
    "plt.ylabel('Counts',fontsize=15)\n",
    "\n",
    "plt.show()"
   ]
  },
  {
   "cell_type": "markdown",
   "id": "a82c5df0",
   "metadata": {
    "papermill": {
     "duration": 0.056511,
     "end_time": "2022-04-28T15:20:54.266874",
     "exception": false,
     "start_time": "2022-04-28T15:20:54.210363",
     "status": "completed"
    },
    "tags": []
   },
   "source": [
    "<br>"
   ]
  },
  {
   "cell_type": "markdown",
   "id": "b886e328",
   "metadata": {
    "papermill": {
     "duration": 0.057636,
     "end_time": "2022-04-28T15:20:54.381385",
     "exception": false,
     "start_time": "2022-04-28T15:20:54.323749",
     "status": "completed"
    },
    "tags": []
   },
   "source": [
    "## *(7) Pie chart : States*\n",
    "Most projects were failed."
   ]
  },
  {
   "cell_type": "code",
   "execution_count": 12,
   "id": "af8cb2cb",
   "metadata": {
    "execution": {
     "iopub.execute_input": "2022-04-28T15:20:54.503049Z",
     "iopub.status.busy": "2022-04-28T15:20:54.502407Z",
     "iopub.status.idle": "2022-04-28T15:20:54.816260Z",
     "shell.execute_reply": "2022-04-28T15:20:54.815138Z"
    },
    "papermill": {
     "duration": 0.381422,
     "end_time": "2022-04-28T15:20:54.821902",
     "exception": false,
     "start_time": "2022-04-28T15:20:54.440480",
     "status": "completed"
    },
    "tags": []
   },
   "outputs": [
    {
     "data": {
      "image/png": "[encoded data removed]",
      "text/plain": [
       "<Figure size 576x576 with 1 Axes>"
      ]
     },
     "metadata": {},
     "output_type": "display_data"
    }
   ],
   "source": [
    "ks_cnt_st= df_ks.groupby('state')['state'].count()\n",
    "\n",
    "plt.style.use('seaborn-whitegrid')\n",
    "plt.figure(figsize=(8,8))\n",
    "\n",
    "colors = ['#ff9999', '#ffc000', '#8fd9b6', '#d395d0']\n",
    "explode= [0.05,0.1,0.05,0.05,0.05]\n",
    "\n",
    "plt.pie(ks_cnt_st.values,labels=ks_cnt_st.index.values, \n",
    "        autopct='%.1f%%', \n",
    "        explode=explode, \n",
    "        shadow=True,\n",
    "        colors=colors,\n",
    "        textprops={'fontsize':15})\n",
    "plt.title('Pie chart : Projects\\' States',fontsize=20,fontweight='bold')\n",
    "plt.legend(loc='upper right', fontsize=12)\n",
    "\n",
    "\n",
    "plt.show()"
   ]
  },
  {
   "cell_type": "markdown",
   "id": "785d298e",
   "metadata": {
    "papermill": {
     "duration": 0.060235,
     "end_time": "2022-04-28T15:20:54.949546",
     "exception": false,
     "start_time": "2022-04-28T15:20:54.889311",
     "status": "completed"
    },
    "tags": []
   },
   "source": [
    "<br>"
   ]
  },
  {
   "cell_type": "markdown",
   "id": "87387d61",
   "metadata": {
    "papermill": {
     "duration": 0.058668,
     "end_time": "2022-04-28T15:20:55.067401",
     "exception": false,
     "start_time": "2022-04-28T15:20:55.008733",
     "status": "completed"
    },
    "tags": []
   },
   "source": [
    "## *(8) Counted Bar Chart having splited legends by main categories*\n",
    "Film & video , Music have the most frequencies not only in successful but also failed."
   ]
  },
  {
   "cell_type": "code",
   "execution_count": 13,
   "id": "84b67ad4",
   "metadata": {
    "execution": {
     "iopub.execute_input": "2022-04-28T15:20:55.187248Z",
     "iopub.status.busy": "2022-04-28T15:20:55.186391Z",
     "iopub.status.idle": "2022-04-28T15:20:56.491010Z",
     "shell.execute_reply": "2022-04-28T15:20:56.490023Z"
    },
    "papermill": {
     "duration": 1.367144,
     "end_time": "2022-04-28T15:20:56.493405",
     "exception": false,
     "start_time": "2022-04-28T15:20:55.126261",
     "status": "completed"
    },
    "tags": []
   },
   "outputs": [
    {
     "data": {
      "text/plain": [
       "<matplotlib.legend.Legend at 0x7f7c64806290>"
      ]
     },
     "execution_count": 13,
     "metadata": {},
     "output_type": "execute_result"
    },
    {
     "data": {
      "image/png": "[encoded data removed]",
      "text/plain": [
       "<Figure size 1440x504 with 1 Axes>"
      ]
     },
     "metadata": {},
     "output_type": "display_data"
    }
   ],
   "source": [
    "plt.figure(figsize=(20,7))\n",
    "\n",
    "palette1 = sns.color_palette('coolwarm',5)\n",
    "sns.countplot(data=df_ks,x='main_category', hue='state',palette=palette1)\n",
    "\n",
    "plt.title('State counts splited by category',fontsize=20,fontweight='bold')\n",
    "plt.xticks(fontsize=14)\n",
    "plt.legend(loc='upper right',fontsize=15)"
   ]
  },
  {
   "cell_type": "markdown",
   "id": "0d2bc7af",
   "metadata": {
    "papermill": {
     "duration": 0.061803,
     "end_time": "2022-04-28T15:20:56.618619",
     "exception": false,
     "start_time": "2022-04-28T15:20:56.556816",
     "status": "completed"
    },
    "tags": []
   },
   "source": [
    "<br>"
   ]
  },
  {
   "cell_type": "markdown",
   "id": "6ce81351",
   "metadata": {
    "papermill": {
     "duration": 0.06348,
     "end_time": "2022-04-28T15:20:56.744991",
     "exception": false,
     "start_time": "2022-04-28T15:20:56.681511",
     "status": "completed"
    },
    "tags": []
   },
   "source": [
    "# **2-2. Generating dummies**"
   ]
  },
  {
   "cell_type": "markdown",
   "id": "3793acd2",
   "metadata": {
    "papermill": {
     "duration": 0.062002,
     "end_time": "2022-04-28T15:20:56.870136",
     "exception": false,
     "start_time": "2022-04-28T15:20:56.808134",
     "status": "completed"
    },
    "tags": []
   },
   "source": [
    "## *(1) Drop all the projects unfinished*\n",
    "I'll drop the three state values live, suspended, canceled for predicting successful cases."
   ]
  },
  {
   "cell_type": "code",
   "execution_count": 14,
   "id": "a32d4b23",
   "metadata": {
    "execution": {
     "iopub.execute_input": "2022-04-28T15:20:56.995257Z",
     "iopub.status.busy": "2022-04-28T15:20:56.994391Z",
     "iopub.status.idle": "2022-04-28T15:20:57.371661Z",
     "shell.execute_reply": "2022-04-28T15:20:57.370404Z"
    },
    "papermill": {
     "duration": 0.442459,
     "end_time": "2022-04-28T15:20:57.374107",
     "exception": false,
     "start_time": "2022-04-28T15:20:56.931648",
     "status": "completed"
    },
    "tags": []
   },
   "outputs": [
    {
     "name": "stdout",
     "output_type": "stream",
     "text": [
      "failed        168113\n",
      "successful    112976\n",
      "Name: state, dtype: int64\n"
     ]
    }
   ],
   "source": [
    "df_ks_p = df_ks\n",
    "df_ks_p.drop(df_ks_p.loc[df_ks_p['state'] == 'live'].index, inplace=True)\n",
    "df_ks_p.drop(df_ks_p.loc[df_ks_p['state'] == 'suspended'].index, inplace=True)\n",
    "df_ks_p.drop(df_ks_p.loc[df_ks_p['state'] == 'canceled'].index, inplace=True)\n",
    "\n",
    "print(df_ks_p['state'].value_counts())"
   ]
  },
  {
   "cell_type": "markdown",
   "id": "aae6398c",
   "metadata": {
    "papermill": {
     "duration": 0.061181,
     "end_time": "2022-04-28T15:20:57.498676",
     "exception": false,
     "start_time": "2022-04-28T15:20:57.437495",
     "status": "completed"
    },
    "tags": []
   },
   "source": [
    "<br>"
   ]
  },
  {
   "cell_type": "markdown",
   "id": "871abbaa",
   "metadata": {
    "papermill": {
     "duration": 0.063144,
     "end_time": "2022-04-28T15:20:57.624326",
     "exception": false,
     "start_time": "2022-04-28T15:20:57.561182",
     "status": "completed"
    },
    "tags": []
   },
   "source": [
    "## *(2) Generate dummies*"
   ]
  },
  {
   "cell_type": "code",
   "execution_count": 15,
   "id": "c33b4e71",
   "metadata": {
    "execution": {
     "iopub.execute_input": "2022-04-28T15:20:57.754622Z",
     "iopub.status.busy": "2022-04-28T15:20:57.754000Z",
     "iopub.status.idle": "2022-04-28T15:20:58.006178Z",
     "shell.execute_reply": "2022-04-28T15:20:58.005518Z"
    },
    "papermill": {
     "duration": 0.320861,
     "end_time": "2022-04-28T15:20:58.008084",
     "exception": false,
     "start_time": "2022-04-28T15:20:57.687223",
     "status": "completed"
    },
    "tags": []
   },
   "outputs": [
    {
     "data": {
      "text/html": [
       "<div>\n",
       "<style scoped>\n",
       "    .dataframe tbody tr th:only-of-type {\n",
       "        vertical-align: middle;\n",
       "    }\n",
       "\n",
       "    .dataframe tbody tr th {\n",
       "        vertical-align: top;\n",
       "    }\n",
       "\n",
       "    .dataframe thead th {\n",
       "        text-align: right;\n",
       "    }\n",
       "</style>\n",
       "<table border=\"1\" class=\"dataframe\">\n",
       "  <thead>\n",
       "    <tr style=\"text-align: right;\">\n",
       "      <th></th>\n",
       "      <th>ID</th>\n",
       "      <th>name</th>\n",
       "      <th>category</th>\n",
       "      <th>deadline</th>\n",
       "      <th>goal</th>\n",
       "      <th>launched</th>\n",
       "      <th>pledged</th>\n",
       "      <th>state</th>\n",
       "      <th>backers</th>\n",
       "      <th>usd pledged</th>\n",
       "      <th>...</th>\n",
       "      <th>currency_DKK</th>\n",
       "      <th>currency_EUR</th>\n",
       "      <th>currency_GBP</th>\n",
       "      <th>currency_HKD</th>\n",
       "      <th>currency_MXN</th>\n",
       "      <th>currency_NOK</th>\n",
       "      <th>currency_NZD</th>\n",
       "      <th>currency_SEK</th>\n",
       "      <th>currency_SGD</th>\n",
       "      <th>currency_USD</th>\n",
       "    </tr>\n",
       "  </thead>\n",
       "  <tbody>\n",
       "    <tr>\n",
       "      <th>0</th>\n",
       "      <td>1000002330</td>\n",
       "      <td>The Songs of Adelaide &amp; Abullah</td>\n",
       "      <td>Poetry</td>\n",
       "      <td>2015-10-09 11:36:00</td>\n",
       "      <td>1000.0</td>\n",
       "      <td>2015-08-11 12:12:28</td>\n",
       "      <td>0.0</td>\n",
       "      <td>failed</td>\n",
       "      <td>0.0</td>\n",
       "      <td>0.0</td>\n",
       "      <td>...</td>\n",
       "      <td>0</td>\n",
       "      <td>0</td>\n",
       "      <td>1</td>\n",
       "      <td>0</td>\n",
       "      <td>0</td>\n",
       "      <td>0</td>\n",
       "      <td>0</td>\n",
       "      <td>0</td>\n",
       "      <td>0</td>\n",
       "      <td>0</td>\n",
       "    </tr>\n",
       "    <tr>\n",
       "      <th>1</th>\n",
       "      <td>1000004038</td>\n",
       "      <td>Where is Hank?</td>\n",
       "      <td>Narrative Film</td>\n",
       "      <td>2013-02-26 00:20:50</td>\n",
       "      <td>45000.0</td>\n",
       "      <td>2013-01-12 00:20:50</td>\n",
       "      <td>220.0</td>\n",
       "      <td>failed</td>\n",
       "      <td>3.0</td>\n",
       "      <td>220.0</td>\n",
       "      <td>...</td>\n",
       "      <td>0</td>\n",
       "      <td>0</td>\n",
       "      <td>0</td>\n",
       "      <td>0</td>\n",
       "      <td>0</td>\n",
       "      <td>0</td>\n",
       "      <td>0</td>\n",
       "      <td>0</td>\n",
       "      <td>0</td>\n",
       "      <td>1</td>\n",
       "    </tr>\n",
       "    <tr>\n",
       "      <th>2</th>\n",
       "      <td>1000007540</td>\n",
       "      <td>ToshiCapital Rekordz Needs Help to Complete Album</td>\n",
       "      <td>Music</td>\n",
       "      <td>2012-04-16 04:24:11</td>\n",
       "      <td>5000.0</td>\n",
       "      <td>2012-03-17 03:24:11</td>\n",
       "      <td>1.0</td>\n",
       "      <td>failed</td>\n",
       "      <td>1.0</td>\n",
       "      <td>1.0</td>\n",
       "      <td>...</td>\n",
       "      <td>0</td>\n",
       "      <td>0</td>\n",
       "      <td>0</td>\n",
       "      <td>0</td>\n",
       "      <td>0</td>\n",
       "      <td>0</td>\n",
       "      <td>0</td>\n",
       "      <td>0</td>\n",
       "      <td>0</td>\n",
       "      <td>1</td>\n",
       "    </tr>\n",
       "    <tr>\n",
       "      <th>4</th>\n",
       "      <td>1000014025</td>\n",
       "      <td>Monarch Espresso Bar</td>\n",
       "      <td>Restaurants</td>\n",
       "      <td>2016-04-01 13:38:27</td>\n",
       "      <td>50000.0</td>\n",
       "      <td>2016-02-26 13:38:27</td>\n",
       "      <td>52375.0</td>\n",
       "      <td>successful</td>\n",
       "      <td>224.0</td>\n",
       "      <td>52375.0</td>\n",
       "      <td>...</td>\n",
       "      <td>0</td>\n",
       "      <td>0</td>\n",
       "      <td>0</td>\n",
       "      <td>0</td>\n",
       "      <td>0</td>\n",
       "      <td>0</td>\n",
       "      <td>0</td>\n",
       "      <td>0</td>\n",
       "      <td>0</td>\n",
       "      <td>1</td>\n",
       "    </tr>\n",
       "    <tr>\n",
       "      <th>5</th>\n",
       "      <td>1000023410</td>\n",
       "      <td>Support Solar Roasted Coffee &amp; Green Energy!  ...</td>\n",
       "      <td>Food</td>\n",
       "      <td>2014-12-21 18:30:44</td>\n",
       "      <td>1000.0</td>\n",
       "      <td>2014-12-01 18:30:44</td>\n",
       "      <td>1205.0</td>\n",
       "      <td>successful</td>\n",
       "      <td>16.0</td>\n",
       "      <td>1205.0</td>\n",
       "      <td>...</td>\n",
       "      <td>0</td>\n",
       "      <td>0</td>\n",
       "      <td>0</td>\n",
       "      <td>0</td>\n",
       "      <td>0</td>\n",
       "      <td>0</td>\n",
       "      <td>0</td>\n",
       "      <td>0</td>\n",
       "      <td>0</td>\n",
       "      <td>1</td>\n",
       "    </tr>\n",
       "  </tbody>\n",
       "</table>\n",
       "<p>5 rows × 56 columns</p>\n",
       "</div>"
      ],
      "text/plain": [
       "           ID                                               name  \\\n",
       "0  1000002330                    The Songs of Adelaide & Abullah   \n",
       "1  1000004038                                     Where is Hank?   \n",
       "2  1000007540  ToshiCapital Rekordz Needs Help to Complete Album   \n",
       "4  1000014025                               Monarch Espresso Bar   \n",
       "5  1000023410  Support Solar Roasted Coffee & Green Energy!  ...   \n",
       "\n",
       "         category             deadline     goal             launched  pledged  \\\n",
       "0          Poetry  2015-10-09 11:36:00   1000.0  2015-08-11 12:12:28      0.0   \n",
       "1  Narrative Film  2013-02-26 00:20:50  45000.0  2013-01-12 00:20:50    220.0   \n",
       "2           Music  2012-04-16 04:24:11   5000.0  2012-03-17 03:24:11      1.0   \n",
       "4     Restaurants  2016-04-01 13:38:27  50000.0  2016-02-26 13:38:27  52375.0   \n",
       "5            Food  2014-12-21 18:30:44   1000.0  2014-12-01 18:30:44   1205.0   \n",
       "\n",
       "        state  backers  usd pledged  ...  currency_DKK  currency_EUR  \\\n",
       "0      failed      0.0          0.0  ...             0             0   \n",
       "1      failed      3.0        220.0  ...             0             0   \n",
       "2      failed      1.0          1.0  ...             0             0   \n",
       "4  successful    224.0      52375.0  ...             0             0   \n",
       "5  successful     16.0       1205.0  ...             0             0   \n",
       "\n",
       "   currency_GBP  currency_HKD  currency_MXN  currency_NOK  currency_NZD  \\\n",
       "0             1             0             0             0             0   \n",
       "1             0             0             0             0             0   \n",
       "2             0             0             0             0             0   \n",
       "4             0             0             0             0             0   \n",
       "5             0             0             0             0             0   \n",
       "\n",
       "   currency_SEK  currency_SGD  currency_USD  \n",
       "0             0             0             0  \n",
       "1             0             0             1  \n",
       "2             0             0             1  \n",
       "4             0             0             1  \n",
       "5             0             0             1  \n",
       "\n",
       "[5 rows x 56 columns]"
      ]
     },
     "execution_count": 15,
     "metadata": {},
     "output_type": "execute_result"
    }
   ],
   "source": [
    "df_ks_pd = pd.get_dummies(data=df_ks_p, columns=['main_category','country','currency'],drop_first=True)\n",
    "# df_ks_pd = pd.get_dummies(data=df_ks_p, columns=['country','currency'],drop_first=True)\n",
    "df_ks_pd.head()"
   ]
  },
  {
   "cell_type": "markdown",
   "id": "8cf2cddb",
   "metadata": {
    "papermill": {
     "duration": 0.063009,
     "end_time": "2022-04-28T15:20:58.137964",
     "exception": false,
     "start_time": "2022-04-28T15:20:58.074955",
     "status": "completed"
    },
    "tags": []
   },
   "source": [
    "<br>"
   ]
  },
  {
   "cell_type": "markdown",
   "id": "1d077df3",
   "metadata": {
    "papermill": {
     "duration": 0.062044,
     "end_time": "2022-04-28T15:20:58.262803",
     "exception": false,
     "start_time": "2022-04-28T15:20:58.200759",
     "status": "completed"
    },
    "tags": []
   },
   "source": [
    "## *(3) Convert the Dependent Variable's values to [0,1]*\n",
    "\n",
    "'state''s values should be replaced to [0,1] for building a Logistic Regression model."
   ]
  },
  {
   "cell_type": "code",
   "execution_count": 16,
   "id": "c67746ce",
   "metadata": {
    "execution": {
     "iopub.execute_input": "2022-04-28T15:20:58.389542Z",
     "iopub.status.busy": "2022-04-28T15:20:58.389094Z",
     "iopub.status.idle": "2022-04-28T15:20:58.524723Z",
     "shell.execute_reply": "2022-04-28T15:20:58.523902Z"
    },
    "papermill": {
     "duration": 0.202592,
     "end_time": "2022-04-28T15:20:58.527662",
     "exception": false,
     "start_time": "2022-04-28T15:20:58.325070",
     "status": "completed"
    },
    "tags": []
   },
   "outputs": [
    {
     "name": "stdout",
     "output_type": "stream",
     "text": [
      "0    168113\n",
      "1    112976\n",
      "Name: state, dtype: int64\n"
     ]
    }
   ],
   "source": [
    "df_ks_pd.loc[df_ks_pd['state'] == 'failed','state'] = 0\n",
    "df_ks_pd.loc[df_ks_pd['state'] == 'successful','state'] = 1\n",
    "\n",
    "df_ks_pd['state'] = df_ks_pd['state'].astype('int64')\n",
    "print(df_ks_pd['state'].value_counts())\n"
   ]
  },
  {
   "cell_type": "markdown",
   "id": "caf6c757",
   "metadata": {
    "papermill": {
     "duration": 0.063752,
     "end_time": "2022-04-28T15:20:58.655685",
     "exception": false,
     "start_time": "2022-04-28T15:20:58.591933",
     "status": "completed"
    },
    "tags": []
   },
   "source": [
    "<br>"
   ]
  },
  {
   "cell_type": "markdown",
   "id": "5469ba63",
   "metadata": {
    "papermill": {
     "duration": 0.063007,
     "end_time": "2022-04-28T15:20:58.781267",
     "exception": false,
     "start_time": "2022-04-28T15:20:58.718260",
     "status": "completed"
    },
    "tags": []
   },
   "source": [
    "## *(4) Drop useless columns for a logistic regression*\n",
    "I tested many cases, recursively, by using various sets of features for training & predicting <br>and I figured out that 'goal' feature causes overfitting problems."
   ]
  },
  {
   "cell_type": "code",
   "execution_count": 17,
   "id": "09d936ea",
   "metadata": {
    "execution": {
     "iopub.execute_input": "2022-04-28T15:20:58.918397Z",
     "iopub.status.busy": "2022-04-28T15:20:58.917729Z",
     "iopub.status.idle": "2022-04-28T15:20:59.001044Z",
     "shell.execute_reply": "2022-04-28T15:20:59.000195Z"
    },
    "papermill": {
     "duration": 0.157851,
     "end_time": "2022-04-28T15:20:59.003441",
     "exception": false,
     "start_time": "2022-04-28T15:20:58.845590",
     "status": "completed"
    },
    "tags": []
   },
   "outputs": [
    {
     "name": "stdout",
     "output_type": "stream",
     "text": [
      "['pledged' 'state' 'backers' 'usd pledged' 'main_category_Comics'\n",
      " 'main_category_Crafts' 'main_category_Dance' 'main_category_Design'\n",
      " 'main_category_Fashion' 'main_category_Film & Video' 'main_category_Food'\n",
      " 'main_category_Games' 'main_category_Journalism' 'main_category_Music'\n",
      " 'main_category_Photography' 'main_category_Publishing'\n",
      " 'main_category_Technology' 'main_category_Theater' 'country_AU'\n",
      " 'country_BE' 'country_CA' 'country_CH' 'country_DE' 'country_DK'\n",
      " 'country_ES' 'country_FR' 'country_GB' 'country_HK' 'country_IE'\n",
      " 'country_IT' 'country_LU' 'country_MX' 'country_NL' 'country_NO'\n",
      " 'country_NZ' 'country_SE' 'country_SG' 'country_US' 'currency_CAD'\n",
      " 'currency_CHF' 'currency_DKK' 'currency_EUR' 'currency_GBP'\n",
      " 'currency_HKD' 'currency_MXN' 'currency_NOK' 'currency_NZD'\n",
      " 'currency_SEK' 'currency_SGD' 'currency_USD']\n"
     ]
    }
   ],
   "source": [
    "# ks_pd= df_ks_pd.drop(['ID','name','category','country','currency','deadline','launched'],axis=1) # The collection of features caused an overfitting => I assumed 'goal' feature caused the overfitting\n",
    "\n",
    "# ks_pd = df_ks_pd.drop(['ID','usd pledged','pledged','goal','name','category','country','currency','deadline','launched'],axis=1) # precision 0.80/0.88, accuracy 0.82 but low recall 0.65\n",
    "\n",
    "ks_pd = df_ks_pd.drop(['ID','name','goal','category','deadline','launched'],axis=1)\n",
    "\n",
    "# ks_pd= df_ks_pd.drop(['ID','name','category','main_category','deadline','launched'],axis=1) # # The collection of features caused an overfitting\n",
    "print(ks_pd.columns.values)\n"
   ]
  },
  {
   "cell_type": "markdown",
   "id": "f2c4de9c",
   "metadata": {
    "papermill": {
     "duration": 0.065248,
     "end_time": "2022-04-28T15:20:59.133258",
     "exception": false,
     "start_time": "2022-04-28T15:20:59.068010",
     "status": "completed"
    },
    "tags": []
   },
   "source": [
    "<br>"
   ]
  },
  {
   "cell_type": "markdown",
   "id": "72557ca5",
   "metadata": {
    "papermill": {
     "duration": 0.06299,
     "end_time": "2022-04-28T15:20:59.261120",
     "exception": false,
     "start_time": "2022-04-28T15:20:59.198130",
     "status": "completed"
    },
    "tags": []
   },
   "source": [
    "# **2-3. Building a Logistic Regression model**"
   ]
  },
  {
   "cell_type": "markdown",
   "id": "bffdc751",
   "metadata": {
    "papermill": {
     "duration": 0.062377,
     "end_time": "2022-04-28T15:20:59.386651",
     "exception": false,
     "start_time": "2022-04-28T15:20:59.324274",
     "status": "completed"
    },
    "tags": []
   },
   "source": [
    "## *(1) Split into train,test*"
   ]
  },
  {
   "cell_type": "code",
   "execution_count": 18,
   "id": "fb5ae964",
   "metadata": {
    "execution": {
     "iopub.execute_input": "2022-04-28T15:20:59.515153Z",
     "iopub.status.busy": "2022-04-28T15:20:59.514579Z",
     "iopub.status.idle": "2022-04-28T15:20:59.891757Z",
     "shell.execute_reply": "2022-04-28T15:20:59.890783Z"
    },
    "papermill": {
     "duration": 0.444096,
     "end_time": "2022-04-28T15:20:59.894463",
     "exception": false,
     "start_time": "2022-04-28T15:20:59.450367",
     "status": "completed"
    },
    "tags": []
   },
   "outputs": [],
   "source": [
    "from sklearn.model_selection import train_test_split\n",
    "\n",
    "X_train, X_test, y_train, y_test = train_test_split(ks_pd.drop('state',axis=1),\n",
    "                                                          ks_pd['state'], test_size=0.25,\n",
    "                                                          random_state=101)"
   ]
  },
  {
   "cell_type": "markdown",
   "id": "051de7a0",
   "metadata": {
    "papermill": {
     "duration": 0.063894,
     "end_time": "2022-04-28T15:21:00.021468",
     "exception": false,
     "start_time": "2022-04-28T15:20:59.957574",
     "status": "completed"
    },
    "tags": []
   },
   "source": [
    "<br>"
   ]
  },
  {
   "cell_type": "markdown",
   "id": "059bd015",
   "metadata": {
    "papermill": {
     "duration": 0.063321,
     "end_time": "2022-04-28T15:21:00.149585",
     "exception": false,
     "start_time": "2022-04-28T15:21:00.086264",
     "status": "completed"
    },
    "tags": []
   },
   "source": [
    "## *(2) Training & predicting*"
   ]
  },
  {
   "cell_type": "code",
   "execution_count": 19,
   "id": "45844a8b",
   "metadata": {
    "execution": {
     "iopub.execute_input": "2022-04-28T15:21:00.280960Z",
     "iopub.status.busy": "2022-04-28T15:21:00.280368Z",
     "iopub.status.idle": "2022-04-28T15:21:02.162330Z",
     "shell.execute_reply": "2022-04-28T15:21:02.161252Z"
    },
    "papermill": {
     "duration": 1.950566,
     "end_time": "2022-04-28T15:21:02.166018",
     "exception": false,
     "start_time": "2022-04-28T15:21:00.215452",
     "status": "completed"
    },
    "tags": []
   },
   "outputs": [],
   "source": [
    "from sklearn.linear_model import LogisticRegression\n",
    "\n",
    "logmodel = LogisticRegression(solver='liblinear')\n",
    "logmodel.fit(X_train,y_train)\n",
    "\n",
    "predictions = logmodel.predict(X_test)\n",
    "probs = logmodel.predict_proba(X_test)"
   ]
  },
  {
   "cell_type": "markdown",
   "id": "bfb17dff",
   "metadata": {
    "papermill": {
     "duration": 0.063499,
     "end_time": "2022-04-28T15:21:02.345624",
     "exception": false,
     "start_time": "2022-04-28T15:21:02.282125",
     "status": "completed"
    },
    "tags": []
   },
   "source": [
    "<br>"
   ]
  },
  {
   "cell_type": "markdown",
   "id": "adf63100",
   "metadata": {
    "papermill": {
     "duration": 0.062871,
     "end_time": "2022-04-28T15:21:02.472563",
     "exception": false,
     "start_time": "2022-04-28T15:21:02.409692",
     "status": "completed"
    },
    "tags": []
   },
   "source": [
    "# **2-4. Model Evaluation**"
   ]
  },
  {
   "cell_type": "markdown",
   "id": "0eb2f3e1",
   "metadata": {
    "papermill": {
     "duration": 0.062847,
     "end_time": "2022-04-28T15:21:02.598255",
     "exception": false,
     "start_time": "2022-04-28T15:21:02.535408",
     "status": "completed"
    },
    "tags": []
   },
   "source": [
    "## *(1) Confusion Matrix*"
   ]
  },
  {
   "cell_type": "code",
   "execution_count": 20,
   "id": "665d7cb1",
   "metadata": {
    "execution": {
     "iopub.execute_input": "2022-04-28T15:21:02.725690Z",
     "iopub.status.busy": "2022-04-28T15:21:02.725387Z",
     "iopub.status.idle": "2022-04-28T15:21:02.748815Z",
     "shell.execute_reply": "2022-04-28T15:21:02.747809Z"
    },
    "papermill": {
     "duration": 0.091646,
     "end_time": "2022-04-28T15:21:02.752771",
     "exception": false,
     "start_time": "2022-04-28T15:21:02.661125",
     "status": "completed"
    },
    "tags": []
   },
   "outputs": [
    {
     "name": "stdout",
     "output_type": "stream",
     "text": [
      "[[39458  2563]\n",
      " [11755 16497]]\n"
     ]
    }
   ],
   "source": [
    "from sklearn.metrics import confusion_matrix\n",
    "\n",
    "cf_mat = confusion_matrix(y_test,predictions)\n",
    "print(cf_mat)\n"
   ]
  },
  {
   "cell_type": "markdown",
   "id": "6ffc8365",
   "metadata": {
    "papermill": {
     "duration": 0.062926,
     "end_time": "2022-04-28T15:21:02.879769",
     "exception": false,
     "start_time": "2022-04-28T15:21:02.816843",
     "status": "completed"
    },
    "tags": []
   },
   "source": [
    "### *(1+) Visualized Confusion Matrix*"
   ]
  },
  {
   "cell_type": "code",
   "execution_count": 21,
   "id": "63a0c57b",
   "metadata": {
    "execution": {
     "iopub.execute_input": "2022-04-28T15:21:03.009620Z",
     "iopub.status.busy": "2022-04-28T15:21:03.009213Z",
     "iopub.status.idle": "2022-04-28T15:21:03.201310Z",
     "shell.execute_reply": "2022-04-28T15:21:03.200658Z"
    },
    "papermill": {
     "duration": 0.259097,
     "end_time": "2022-04-28T15:21:03.203423",
     "exception": false,
     "start_time": "2022-04-28T15:21:02.944326",
     "status": "completed"
    },
    "tags": []
   },
   "outputs": [
    {
     "data": {
      "image/png": "[encoded data removed]",
      "text/plain": [
       "<Figure size 720x504 with 2 Axes>"
      ]
     },
     "metadata": {},
     "output_type": "display_data"
    }
   ],
   "source": [
    "plt.figure(figsize=(10,7))\n",
    "sns.heatmap(cf_mat, annot=True,\n",
    "            xticklabels=['Negative','Positive'],\n",
    "            yticklabels=['Negative','Positive'],\n",
    "            cmap='Purples',\n",
    "            fmt='g',\n",
    "            annot_kws={'size':20})\n",
    "plt.title('Confusion Matrix',fontsize=20,fontweight='bold')\n",
    "\n",
    "plt.xticks(fontsize=20)\n",
    "plt.yticks(fontsize=20)\n",
    "\n",
    "\n",
    "plt.show()"
   ]
  },
  {
   "cell_type": "markdown",
   "id": "7a68d232",
   "metadata": {
    "papermill": {
     "duration": 0.064856,
     "end_time": "2022-04-28T15:21:03.333097",
     "exception": false,
     "start_time": "2022-04-28T15:21:03.268241",
     "status": "completed"
    },
    "tags": []
   },
   "source": [
    "Total : 70273\n",
    "\n",
    "* ***TN( True Negative ) : 39458***\n",
    "* ***FP( False Positive ) : 2563***\n",
    "* ***FN( False Negative ) : 11755***\n",
    "* ***TP( True Positive) : 16497***\n",
    "\n",
    "<br>"
   ]
  },
  {
   "cell_type": "markdown",
   "id": "6e58d790",
   "metadata": {
    "papermill": {
     "duration": 0.067321,
     "end_time": "2022-04-28T15:21:03.465549",
     "exception": false,
     "start_time": "2022-04-28T15:21:03.398228",
     "status": "completed"
    },
    "tags": []
   },
   "source": [
    "## *(2) Prediction & Accuracy Score*"
   ]
  },
  {
   "cell_type": "code",
   "execution_count": 22,
   "id": "33a5a3d7",
   "metadata": {
    "execution": {
     "iopub.execute_input": "2022-04-28T15:21:03.600212Z",
     "iopub.status.busy": "2022-04-28T15:21:03.599540Z",
     "iopub.status.idle": "2022-04-28T15:21:03.745072Z",
     "shell.execute_reply": "2022-04-28T15:21:03.743441Z"
    },
    "papermill": {
     "duration": 0.216372,
     "end_time": "2022-04-28T15:21:03.747707",
     "exception": false,
     "start_time": "2022-04-28T15:21:03.531335",
     "status": "completed"
    },
    "tags": []
   },
   "outputs": [
    {
     "name": "stdout",
     "output_type": "stream",
     "text": [
      "              precision    recall  f1-score   support\n",
      "\n",
      "           0       0.77      0.94      0.85     42021\n",
      "           1       0.87      0.58      0.70     28252\n",
      "\n",
      "    accuracy                           0.80     70273\n",
      "   macro avg       0.82      0.76      0.77     70273\n",
      "weighted avg       0.81      0.80      0.79     70273\n",
      "\n"
     ]
    }
   ],
   "source": [
    "# Accuracy Score\n",
    "from sklearn.metrics import classification_report\n",
    "\n",
    "print(classification_report(y_test,predictions))\n"
   ]
  },
  {
   "cell_type": "markdown",
   "id": "18a9a206",
   "metadata": {
    "papermill": {
     "duration": 0.065064,
     "end_time": "2022-04-28T15:21:03.878433",
     "exception": false,
     "start_time": "2022-04-28T15:21:03.813369",
     "status": "completed"
    },
    "tags": []
   },
   "source": [
    "* ***Precision : 0.82*** \n",
    "* ***Accuracy  : 0.80***\n",
    "\n",
    "<br><br>"
   ]
  },
  {
   "cell_type": "markdown",
   "id": "76eea4e6",
   "metadata": {
    "papermill": {
     "duration": 0.067521,
     "end_time": "2022-04-28T15:21:04.011027",
     "exception": false,
     "start_time": "2022-04-28T15:21:03.943506",
     "status": "completed"
    },
    "tags": []
   },
   "source": [
    "# **2-5. Suggestions for improving the model's performance**\n",
    "\n",
    "*1. Including \\'goal\\' feature will increase the overall indices for an evaluation, but It causes overfitting problems in my tests.* <br><br>\n",
    "*2. Extracting year feature from \\'deadline\\' & \\'launced\\' and utilizing those might be helpful to improve precision & accuracy, but it also involves a hazard to an overfitting issue.* <br><br>\n",
    "*3. Removing outliers will be a nice troubleshooter for improving the model\\'s performance.* <br><br>\n",
    "*4. Adjusting a threshold for improving a precision, but the relationship between a precision and an accuracy is trade-off. If a precision goes up, accuracy will go down, and vice versa.* <br><br>"
   ]
  },
  {
   "cell_type": "markdown",
   "id": "e102e307",
   "metadata": {
    "papermill": {
     "duration": 0.064383,
     "end_time": "2022-04-28T15:21:04.142785",
     "exception": false,
     "start_time": "2022-04-28T15:21:04.078402",
     "status": "completed"
    },
    "tags": []
   },
   "source": [
    "<br>"
   ]
  }
 ],
 "metadata": {
  "kernelspec": {
   "display_name": "Python 3",
   "language": "python",
   "name": "python3"
  },
  "language_info": {
   "codemirror_mode": {
    "name": "ipython",
    "version": 3
   },
   "file_extension": ".py",
   "mimetype": "text/x-python",
   "name": "python",
   "nbconvert_exporter": "python",
   "pygments_lexer": "ipython3",
   "version": "3.7.12"
  },
  "papermill": {
   "default_parameters": {},
   "duration": 33.623661,
   "end_time": "2022-04-28T15:21:05.136502",
   "environment_variables": {},
   "exception": null,
   "input_path": "__notebook__.ipynb",
   "output_path": "__notebook__.ipynb",
   "parameters": {},
   "start_time": "2022-04-28T15:20:31.512841",
   "version": "2.3.4"
  }
 },
 "nbformat": 4,
 "nbformat_minor": 5
}
